{
 "cells": [
  {
   "cell_type": "markdown",
   "metadata": {},
   "source": [
    "## Imports"
   ]
  },
  {
   "cell_type": "code",
   "execution_count": null,
   "metadata": {},
   "outputs": [],
   "source": [
    "%%writefile requirements.txt\n",
    "\n",
    "lightgbm==4.5.0\n",
    "xgboost==2.1.1\n",
    "scikit-learn=1.4.2\n"
   ]
  },
  {
   "cell_type": "code",
   "execution_count": 3,
   "metadata": {},
   "outputs": [],
   "source": [
    "%%capture\n",
    "\n",
    "!pip install -r requirements.txt"
   ]
  },
  {
   "cell_type": "code",
   "execution_count": 7,
   "metadata": {},
   "outputs": [
    {
     "name": "stdout",
     "output_type": "stream",
     "text": [
      "Appending to myimports.py\n"
     ]
    }
   ],
   "source": [
    "%%writefile -a myimports.py\n",
    "\n",
    "print(f\"\\n---> Commencing Imports\")\n",
    "\n",
    "from gc import collect\n",
    "from warnings import filterwarnings\n",
    "filterwarnings('ignore')\n",
    "from IPython.display import display_html, clear_output\n",
    "clear_output()\n",
    "import os, sys, logging, re, joblib, ctypes, shutil\n",
    "from copy import deepcopy\n",
    "\n",
    "# General library imports\n",
    "from os import path, walk, getpid\n",
    "from psutil import Process\n",
    "from collections import Counter\n",
    "from itertools import product\n",
    "import ctypes\n",
    "libc=ctypes.CDLL(\"libc.so.6\")\n",
    "\n",
    "from IPython.display import display_html, clear_output\n",
    "from pprint import pprint\n",
    "from functools import partial\n",
    "from copy import deepcopy\n",
    "import pandas as pd\n",
    "import numpy as np\n",
    "from scipy.optimize import minimize\n",
    "from numpy.typing import ArrayLike, NDArray\n",
    "import polars as pl\n",
    "import polars.selectors as cs\n",
    "from polars.testing import assert_frame_equal\n",
    "\n",
    "import matplotlib.pyplot as plt\n",
    "import seaborn as sns\n",
    "from colorama import Fore, Style, init\n",
    "from tqdm.notebook import tqdm\n"
   ]
  },
  {
   "cell_type": "code",
   "execution_count": 8,
   "metadata": {},
   "outputs": [
    {
     "name": "stdout",
     "output_type": "stream",
     "text": [
      "Appending to myimports.py\n"
     ]
    }
   ],
   "source": [
    "%%writefile -a myimports.py\n",
    "\n",
    "# Importing model and pipeline specifics\n",
    "from category_encoders import OrdinalEncoder, OneHotEncoder\n",
    "\n",
    "# Pipeline specifics\n",
    "from sklearn.preprocessing import (RobustScaler,\n",
    "MinMaxScaler,\n",
    "StandardScaler,\n",
    "FunctionTransformer as FT,\n",
    "PowerTransformer,\n",
    ")\n",
    "from sklearn.impute import SimpleImputer as SI\n",
    "from sklearn.model_selection import (\n",
    "    RepeatedStratifiedKFold as RSKF,\n",
    "    StratifiedKFold as SKF,\n",
    "    KFold,\n",
    "    GroupKFold as GKF,\n",
    "    RepeatedKFold as RKF,\n",
    "    PredefinedSplit as PDS,\n",
    "    cross_val_score,\n",
    "    cross_val_predict\n",
    ")\n",
    "from sklearn.inspection import permutation_importance\n",
    "from sklearn.feature_selection import VarianceThreshold as VT\n",
    "from sklearn.pipeline import Pipeline, make_pipeline\n",
    "from sklearn.base import (BaseEstimator,TransformerMixin, RegressorMixin, clone)\n",
    "from sklearn.compose import ColumnTransformer, make_column_selector\n",
    "from sklearn.linear_model import Ridge\n",
    "from sklearn.metrics import ( \n",
    "    root_mean_squared_error as rmse,\n",
    "    mean_absolute_error as mae\n",
    "    )\n",
    "from sklearn.ensemble import (\n",
    "    RandomForestRegressor as RFR,\n",
    "    ExtraTreesRegressor as ETR,\n",
    "    HistGradientBoostingRegressor as HGBR)\n",
    "\n",
    "# Importing model packages\n",
    "import xgboost as xgb, lightgbm as lgb\n",
    "from xgboost import XGBRegressor as XGBR, QuantileDMatrix\n",
    "from lightgbm import log_evaluation, early_stopping, LGBMRegressor as LGBMR\n",
    "from catboost import CatBoostRegressor as CBR, Pool\n",
    "\n",
    "# Importing ensemble and tuning packages\n",
    "import optuna\n",
    "from optuna import Trial, trial, create_study\n",
    "from optuna.pruners import HyperbandPruner\n",
    "from optuna.samplers import TPESampler, CmaEsSampler\n",
    "optuna.logging.disable_default_handler()\n"
   ]
  },
  {
   "cell_type": "code",
   "execution_count": 9,
   "metadata": {},
   "outputs": [
    {
     "name": "stdout",
     "output_type": "stream",
     "text": [
      "Appending to myimports.py\n"
     ]
    }
   ],
   "source": [
    "%%writefile -a myimports.py\n",
    "\n",
    "# setting rc parameters in seaborn for plots and graphs\n",
    "sns.set_theme(\n",
    "    {\n",
    "        \"axes.facecolor\":\"#ffffff\",\n",
    "        \"figure.facecolor\":\"#ffffff\",\n",
    "        \"axes.edgecolor\": \"#000000\",\n",
    "        \"grid.color\":\"#ffffff\",\n",
    "        \"font.family\":[\"Cambria\"],\n",
    "        \"axes.labelcolor\":\"#000000\",\n",
    "        \"xtick.color\":\"#000000\",\n",
    "        \"ytick.color\":\"#000000\",\n",
    "        \"grid.linewidth\":0.75,\n",
    "        \"grid.linestyle\":\"--\",\n",
    "        \"axes.titlecolor\":\"#0099e6\",\n",
    "        \"axes.titlesize\":8.5,\n",
    "        \"axes.labelweight\":\"bold\",\n",
    "        \"legend.fontsize\":7.0,\n",
    "        \"legend.title_fontsize\":7.0,\n",
    "        \"font.size\":7.5,\n",
    "        \"xtick.labelsize\":7.5,\n",
    "        \"ytick.labelsize\":7.5\n",
    "    }\n",
    "        )\n",
    "\n",
    "# color printing\n",
    "def PrintColor(text:str,color=Fore.BLUE,style=Style.BRIGHT):\n",
    "    print(style+color+text+Style.RESET_ALL)\n",
    "\n",
    "# Checking package versions\n",
    "import xgboost as xgb, lightgbm as lgb, catboost as cb, sklearn as sk, pandas as pd, polars as pl\n",
    "print(f\"---> XGBoost = {xgb.__version__} | LightGBM = {lgb.__version__} | CatBoost = {cb.__version__}\")\n",
    "print(f\"---> Sklearn = {sk.__version__} | Pandas = {pd.__version__} | Polars = {pl.__version__}\")"
   ]
  },
  {
   "cell_type": "code",
   "execution_count": 10,
   "metadata": {},
   "outputs": [
    {
     "name": "stdout",
     "output_type": "stream",
     "text": [
      "Appending to myimports.py\n"
     ]
    }
   ],
   "source": [
    "%%writefile -a myimports.py\n",
    " \n",
    "class MyLogger:\n",
    "    \"\"\"\n",
    "    This class helps to supress logs in lightgbm and optuna\n",
    "    \"\"\"\n",
    "    def init(self,logging_lbl:str):\n",
    "        self.logger=logging.getLogger(logging_lbl)\n",
    "        self.logger.setLevel(logging.ERROR)\n",
    "\n",
    "    def info(self,message):\n",
    "        pass\n",
    "\n",
    "    def warning(self,message):\n",
    "        pass\n",
    "\n",
    "    def error(self,message):\n",
    "        self.logger.error(message)\n",
    "\n",
    "# Customizing logging for xgboost\n",
    "\n",
    "for handler in logging.root.handlers[:]:\n",
    "    logging.root.removeHandler(handler)\n",
    "\n",
    "logger=logging.getLogger(__name__)\n",
    "logger.setLevel(logging.ERROR)\n",
    "formatter=logging.Formatter('%(asctime)s | %(levelname)s | %(message)s')\n",
    "\n",
    "stdout_handler=logging.StreamHandler(sys.stdout)\n",
    "stdout_handler.setLevel(logging.INFO)\n",
    "stdout_handler.setFormatter(formatter)\n",
    "\n",
    "file_handler=logging.FileHandler(f\"xgb_optimize.log\")\n",
    "file_handler.setLevel(logging.ERROR)\n",
    "file_handler.setFormatter(formatter)\n",
    "\n",
    "logger.addHandler(file_handler)\n",
    "logger.addHandler(stdout_handler)\n",
    "\n",
    "class XGBLogging(xgb.callback.TrainingCallback):\n",
    "    \"\"\"\n",
    "    This class is design for custom logging in xgboost\n",
    "    This is to be used inside XGBoost callback\n",
    "    \"\"\"\n",
    "    def __init__(self,epoch_log_interval=100):\n",
    "        self.epoch_log_interval=epoch_log_interval\n",
    "\n",
    "    def after_interaction(\n",
    "            self,model,epoch:int,evals_log:xgb.callback.TrainingCallback.EvalsLog\n",
    "    ):\n",
    "        if self.epoch_log_interval<=0:\n",
    "            pass\n",
    "\n",
    "        elif (epoch%self.epoch_log_interval==0):\n",
    "            for data,metric in evals_log.items():\n",
    "                for metric_name, log in metric.items():\n",
    "                    score=log[-1][0] if isinstance(log[-1], tuple) else log[-1]\n",
    "                    logger.info(f\"XGBLogging apoch {epoch} dataset {data} {metric_name} {score}\")\n",
    "\n",
    "        return False\n",
    "\n",
    "\n",
    "\n",
    "\n",
    "\n"
   ]
  },
  {
   "cell_type": "code",
   "execution_count": 11,
   "metadata": {},
   "outputs": [
    {
     "name": "stdout",
     "output_type": "stream",
     "text": [
      "---> XGBoost = 2.1.1 | LightGBM = 4.5.0 | CatBoost = 1.2.7\n",
      "---> Sklearn = 1.5.2 | Pandas = 2.2.3 | Polars = 1.8.2\n",
      "\n",
      "CPU times: user 34.2 ms, sys: 1.14 ms, total: 35.3 ms\n",
      "Wall time: 39.8 ms\n"
     ]
    }
   ],
   "source": [
    "%%time\n",
    "exec(open('myimports.py','r').read())\n",
    "print()\n"
   ]
  },
  {
   "cell_type": "code",
   "execution_count": null,
   "metadata": {},
   "outputs": [],
   "source": []
  }
 ],
 "metadata": {
  "kernelspec": {
   "display_name": "torch",
   "language": "python",
   "name": "python3"
  },
  "language_info": {
   "codemirror_mode": {
    "name": "ipython",
    "version": 3
   },
   "file_extension": ".py",
   "mimetype": "text/x-python",
   "name": "python",
   "nbconvert_exporter": "python",
   "pygments_lexer": "ipython3",
   "version": "3.12.5"
  }
 },
 "nbformat": 4,
 "nbformat_minor": 2
}
